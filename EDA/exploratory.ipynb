{
 "cells": [
  {
   "cell_type": "code",
   "execution_count": 3,
   "metadata": {},
   "outputs": [],
   "source": [
    "\n",
    "import pandas as pd\n",
    "import numpy as np\n",
    "import matplotlib.pyplot as plt\n",
    "import seaborn as sns\n"
   ]
  },
  {
   "cell_type": "code",
   "execution_count": 9,
   "metadata": {},
   "outputs": [],
   "source": [
    "#reading output.csv from data_pipeline from a folder up in the directory\n",
    "df = pd.read_csv('../data_pipeline/output.csv')\n",
    "\n"
   ]
  },
  {
   "cell_type": "code",
   "execution_count": 13,
   "metadata": {},
   "outputs": [
    {
     "data": {
      "text/html": [
       "<div>\n",
       "<style scoped>\n",
       "    .dataframe tbody tr th:only-of-type {\n",
       "        vertical-align: middle;\n",
       "    }\n",
       "\n",
       "    .dataframe tbody tr th {\n",
       "        vertical-align: top;\n",
       "    }\n",
       "\n",
       "    .dataframe thead th {\n",
       "        text-align: right;\n",
       "    }\n",
       "</style>\n",
       "<table border=\"1\" class=\"dataframe\">\n",
       "  <thead>\n",
       "    <tr style=\"text-align: right;\">\n",
       "      <th></th>\n",
       "      <th>id</th>\n",
       "      <th>priority</th>\n",
       "      <th>priority_id</th>\n",
       "      <th>issue_type</th>\n",
       "      <th>description</th>\n",
       "      <th>summary</th>\n",
       "    </tr>\n",
       "  </thead>\n",
       "  <tbody>\n",
       "    <tr>\n",
       "      <th>0</th>\n",
       "      <td>493199</td>\n",
       "      <td>normal</td>\n",
       "      <td>4</td>\n",
       "      <td>bug</td>\n",
       "      <td>[minecraft: java edition achievements faq|http...</td>\n",
       "      <td>\"minecraft: java edition achievements faq\" has...</td>\n",
       "    </tr>\n",
       "    <tr>\n",
       "      <th>1</th>\n",
       "      <td>493198</td>\n",
       "      <td>normal</td>\n",
       "      <td>4</td>\n",
       "      <td>bug</td>\n",
       "      <td>[minecraft: java edition achievements faq|http...</td>\n",
       "      <td>\"minecraft: java edition achievements faq\" has...</td>\n",
       "    </tr>\n",
       "    <tr>\n",
       "      <th>2</th>\n",
       "      <td>493172</td>\n",
       "      <td>normal</td>\n",
       "      <td>4</td>\n",
       "      <td>bug</td>\n",
       "      <td>https://help.minecraft.net/hc/en-us/articles/4...</td>\n",
       "      <td>\"minecraft: java edition demo mode\" article ha...</td>\n",
       "    </tr>\n",
       "    <tr>\n",
       "      <th>3</th>\n",
       "      <td>493170</td>\n",
       "      <td>normal</td>\n",
       "      <td>4</td>\n",
       "      <td>bug</td>\n",
       "      <td>[minecraft - types of biomes|https://help.mine...</td>\n",
       "      <td>\"minecraft - types of biomes\" is not updated t...</td>\n",
       "    </tr>\n",
       "    <tr>\n",
       "      <th>4</th>\n",
       "      <td>493168</td>\n",
       "      <td>normal</td>\n",
       "      <td>4</td>\n",
       "      <td>bug</td>\n",
       "      <td>[minecraft - list of enchantments|https://help...</td>\n",
       "      <td>\"minecraft - list of enchantments\" has an extr...</td>\n",
       "    </tr>\n",
       "    <tr>\n",
       "      <th>...</th>\n",
       "      <td>...</td>\n",
       "      <td>...</td>\n",
       "      <td>...</td>\n",
       "      <td>...</td>\n",
       "      <td>...</td>\n",
       "      <td>...</td>\n",
       "    </tr>\n",
       "    <tr>\n",
       "      <th>3433</th>\n",
       "      <td>110671</td>\n",
       "      <td>low</td>\n",
       "      <td>5</td>\n",
       "      <td>bug</td>\n",
       "      <td>https://twitter.com/mojangsupport/status/57484...</td>\n",
       "      <td>incorrect translation on korean realms page.</td>\n",
       "    </tr>\n",
       "    <tr>\n",
       "      <th>3434</th>\n",
       "      <td>106111</td>\n",
       "      <td>normal</td>\n",
       "      <td>4</td>\n",
       "      <td>bug</td>\n",
       "      <td>the results when using the {{at}} parameter fo...</td>\n",
       "      <td>api.mojang.com/users/profiles/minecraft/&lt;name&gt;...</td>\n",
       "    </tr>\n",
       "    <tr>\n",
       "      <th>3435</th>\n",
       "      <td>113486</td>\n",
       "      <td>normal</td>\n",
       "      <td>4</td>\n",
       "      <td>bug</td>\n",
       "      <td>this is the actual account claimed by [jumboki...</td>\n",
       "      <td>demo accounts are returned by the api</td>\n",
       "    </tr>\n",
       "    <tr>\n",
       "      <th>3436</th>\n",
       "      <td>88817</td>\n",
       "      <td>normal</td>\n",
       "      <td>4</td>\n",
       "      <td>bug</td>\n",
       "      <td>summary says it all, the api is occasionally n...</td>\n",
       "      <td>mojang's api for retrieving players from uuids...</td>\n",
       "    </tr>\n",
       "    <tr>\n",
       "      <th>3437</th>\n",
       "      <td>105935</td>\n",
       "      <td>normal</td>\n",
       "      <td>4</td>\n",
       "      <td>bug</td>\n",
       "      <td>basically, when you change your nick and try t...</td>\n",
       "      <td>api.mojang.com not working with changed nicks!</td>\n",
       "    </tr>\n",
       "  </tbody>\n",
       "</table>\n",
       "<p>3438 rows × 6 columns</p>\n",
       "</div>"
      ],
      "text/plain": [
       "          id priority  priority_id issue_type  \\\n",
       "0     493199   normal            4        bug   \n",
       "1     493198   normal            4        bug   \n",
       "2     493172   normal            4        bug   \n",
       "3     493170   normal            4        bug   \n",
       "4     493168   normal            4        bug   \n",
       "...      ...      ...          ...        ...   \n",
       "3433  110671      low            5        bug   \n",
       "3434  106111   normal            4        bug   \n",
       "3435  113486   normal            4        bug   \n",
       "3436   88817   normal            4        bug   \n",
       "3437  105935   normal            4        bug   \n",
       "\n",
       "                                            description  \\\n",
       "0     [minecraft: java edition achievements faq|http...   \n",
       "1     [minecraft: java edition achievements faq|http...   \n",
       "2     https://help.minecraft.net/hc/en-us/articles/4...   \n",
       "3     [minecraft - types of biomes|https://help.mine...   \n",
       "4     [minecraft - list of enchantments|https://help...   \n",
       "...                                                 ...   \n",
       "3433  https://twitter.com/mojangsupport/status/57484...   \n",
       "3434  the results when using the {{at}} parameter fo...   \n",
       "3435  this is the actual account claimed by [jumboki...   \n",
       "3436  summary says it all, the api is occasionally n...   \n",
       "3437  basically, when you change your nick and try t...   \n",
       "\n",
       "                                                summary  \n",
       "0     \"minecraft: java edition achievements faq\" has...  \n",
       "1     \"minecraft: java edition achievements faq\" has...  \n",
       "2     \"minecraft: java edition demo mode\" article ha...  \n",
       "3     \"minecraft - types of biomes\" is not updated t...  \n",
       "4     \"minecraft - list of enchantments\" has an extr...  \n",
       "...                                                 ...  \n",
       "3433       incorrect translation on korean realms page.  \n",
       "3434  api.mojang.com/users/profiles/minecraft/<name>...  \n",
       "3435              demo accounts are returned by the api  \n",
       "3436  mojang's api for retrieving players from uuids...  \n",
       "3437     api.mojang.com not working with changed nicks!  \n",
       "\n",
       "[3438 rows x 6 columns]"
      ]
     },
     "execution_count": 13,
     "metadata": {},
     "output_type": "execute_result"
    }
   ],
   "source": [
    "df"
   ]
  },
  {
   "cell_type": "code",
   "execution_count": 23,
   "metadata": {},
   "outputs": [
    {
     "data": {
      "image/png": "[encoded data removed]",
      "text/plain": [
       "<Figure size 1000x600 with 1 Axes>"
      ]
     },
     "metadata": {},
     "output_type": "display_data"
    }
   ],
   "source": [
    "#histogram by issue type\n",
    "plt.figure(figsize=(10,6))\n",
    "sns.countplot(x='priority', data=df[df['priority'] != 'normal'])\n",
    "plt.title('Issue Type Distribution')\n",
    "plt.xlabel('Issue Type')\n",
    "plt.ylabel('Count')\n",
    "plt.xticks(rotation=45)\n",
    "plt.show()\n",
    "\n",
    "#Notes: too much \"normal\" priority, may need to increase sample\n"
   ]
  },
  {
   "cell_type": "code",
   "execution_count": 21,
   "metadata": {},
   "outputs": [
    {
     "data": {
      "text/html": [
       "<div>\n",
       "<style scoped>\n",
       "    .dataframe tbody tr th:only-of-type {\n",
       "        vertical-align: middle;\n",
       "    }\n",
       "\n",
       "    .dataframe tbody tr th {\n",
       "        vertical-align: top;\n",
       "    }\n",
       "\n",
       "    .dataframe thead th {\n",
       "        text-align: right;\n",
       "    }\n",
       "</style>\n",
       "<table border=\"1\" class=\"dataframe\">\n",
       "  <thead>\n",
       "    <tr style=\"text-align: right;\">\n",
       "      <th></th>\n",
       "      <th>id</th>\n",
       "      <th>priority</th>\n",
       "      <th>priority_id</th>\n",
       "      <th>issue_type</th>\n",
       "      <th>description</th>\n",
       "      <th>summary</th>\n",
       "    </tr>\n",
       "  </thead>\n",
       "  <tbody>\n",
       "  </tbody>\n",
       "</table>\n",
       "</div>"
      ],
      "text/plain": [
       "Empty DataFrame\n",
       "Columns: [id, priority, priority_id, issue_type, description, summary]\n",
       "Index: []"
      ]
     },
     "execution_count": 21,
     "metadata": {},
     "output_type": "execute_result"
    }
   ],
   "source": [
    "df[df[\"id\"] == 1]"
   ]
  },
  {
   "cell_type": "code",
   "execution_count": 22,
   "metadata": {},
   "outputs": [
    {
     "data": {
      "image/png": "[encoded data removed]",
      "text/plain": [
       "<Figure size 1000x600 with 1 Axes>"
      ]
     },
     "metadata": {},
     "output_type": "display_data"
    }
   ],
   "source": [
    "#distribution accross different priority\n",
    "plt.figure(figsize=(10,6))\n",
    "sns.countplot(x='priority', data=df)\n",
    "plt.title('Priority Distribution')\n",
    "plt.xlabel('Priority')\n",
    "plt.ylabel('Count')\n",
    "plt.xticks(rotation=45)\n",
    "plt.show()\n"
   ]
  },
  {
   "cell_type": "code",
   "execution_count": 26,
   "metadata": {},
   "outputs": [
    {
     "data": {
      "text/html": [
       "<div>\n",
       "<style scoped>\n",
       "    .dataframe tbody tr th:only-of-type {\n",
       "        vertical-align: middle;\n",
       "    }\n",
       "\n",
       "    .dataframe tbody tr th {\n",
       "        vertical-align: top;\n",
       "    }\n",
       "\n",
       "    .dataframe thead th {\n",
       "        text-align: right;\n",
       "    }\n",
       "</style>\n",
       "<table border=\"1\" class=\"dataframe\">\n",
       "  <thead>\n",
       "    <tr style=\"text-align: right;\">\n",
       "      <th></th>\n",
       "      <th>priority_id</th>\n",
       "      <th>priority</th>\n",
       "    </tr>\n",
       "  </thead>\n",
       "  <tbody>\n",
       "    <tr>\n",
       "      <th>0</th>\n",
       "      <td>4</td>\n",
       "      <td>normal</td>\n",
       "    </tr>\n",
       "    <tr>\n",
       "      <th>580</th>\n",
       "      <td>3</td>\n",
       "      <td>important</td>\n",
       "    </tr>\n",
       "    <tr>\n",
       "      <th>1131</th>\n",
       "      <td>5</td>\n",
       "      <td>low</td>\n",
       "    </tr>\n",
       "    <tr>\n",
       "      <th>1540</th>\n",
       "      <td>2</td>\n",
       "      <td>critical</td>\n",
       "    </tr>\n",
       "    <tr>\n",
       "      <th>3146</th>\n",
       "      <td>1</td>\n",
       "      <td>blocker</td>\n",
       "    </tr>\n",
       "  </tbody>\n",
       "</table>\n",
       "</div>"
      ],
      "text/plain": [
       "      priority_id   priority\n",
       "0               4     normal\n",
       "580             3  important\n",
       "1131            5        low\n",
       "1540            2   critical\n",
       "3146            1    blocker"
      ]
     },
     "execution_count": 26,
     "metadata": {},
     "output_type": "execute_result"
    }
   ],
   "source": [
    "#distinct priority_id and priority\n",
    "df_priority = df[['priority_id', 'priority']].drop_duplicates()\n",
    "df_priority"
   ]
  }
 ],
 "metadata": {
  "kernelspec": {
   "display_name": "llm-engineering-JXGZOjFY-py3.11",
   "language": "python",
   "name": "python3"
  },
  "language_info": {
   "codemirror_mode": {
    "name": "ipython",
    "version": 3
   },
   "file_extension": ".py",
   "mimetype": "text/x-python",
   "name": "python",
   "nbconvert_exporter": "python",
   "pygments_lexer": "ipython3",
   "version": "3.11.8"
  }
 },
 "nbformat": 4,
 "nbformat_minor": 2
}
